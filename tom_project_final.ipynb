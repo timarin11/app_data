{
 "cells": [
  {
   "cell_type": "markdown",
   "metadata": {},
   "source": [
    "# App data analysis\n",
    "\n",
    "This project is about understanding what kind of apps should the company be focusing on producing to acheive more users.\n",
    "\n",
    "The goal is to analyze data to help our developers understand what type of apps are likely to attract more users."
   ]
  },
  {
   "cell_type": "markdown",
   "metadata": {},
   "source": [
    "Here are two data sets that seem suitable for our goals::\n",
    "- Google Play: https://www.kaggle.com/datasets/lava18/google-play-store-apps\n",
    "- App Store: https://www.kaggle.com/ramamet4/app-store-apple-data-set-10k-apps"
   ]
  },
  {
   "cell_type": "markdown",
   "metadata": {},
   "source": [
    "First, we import the dataset as a list of lists"
   ]
  },
  {
   "cell_type": "code",
   "execution_count": 1,
   "metadata": {},
   "outputs": [],
   "source": [
    "from csv import reader\n",
    "#AppStore dataset\n",
    "opened_appstore = open('AppleStore.csv')\n",
    "read_appstore = reader(opened_appstore)\n",
    "data_ios = list(read_appstore) #All ios data\n",
    "header_ios = data_ios[0] #Header Ios data\n",
    "ios = data_ios[1:] #AppStore data without header\n",
    "\n",
    "#Google Play dataset\n",
    "opened_googleplay = open('googleplaystore.csv')\n",
    "read_googleplay = reader(opened_googleplay)\n",
    "data_gplay = list(read_googleplay) #All android data\n",
    "header_gplay = data_gplay[0] #Header android data\n",
    "gplay = data_gplay[1:] #Android data without header\n"
   ]
  },
  {
   "cell_type": "markdown",
   "metadata": {},
   "source": [
    "We create a function to explore the dataset by extracting a slice of the rows to be printed:\n",
    "The **explore_data()** function does the following:\n",
    "\n",
    "Takes in four parameters:\n",
    "dataset(list of lists)\n",
    "start and end, (integers that represent the starting and the ending indices of a slice from the dataset)\n",
    "rows_and_columns(Boolean and has False as a default argument)\n",
    "\n",
    "First it Slices the dataset using dataset[start:end]\n",
    "Loops through the slice, and for each iteration, prints a row and adds a new line after that row using print('\\n')\n",
    "The \\n in print('\\n') is a special character that won't print. Instead, the \\n character adds a new line, and we use print('\\n') to add some blank space between rows\n",
    "Prints the number of rows and columns if rows_and_columns is True\n",
    "dataset shouldn't have a header row, or the function will print the wrong number of rows (one more row compared to the actual length)\n"
   ]
  },
  {
   "cell_type": "code",
   "execution_count": 2,
   "metadata": {},
   "outputs": [],
   "source": [
    "def explore_data(dataset, start, end, rows_and_columns=False):\n",
    "    dataset_slice = dataset[start:end]    \n",
    "    for row in dataset_slice:\n",
    "        print(row)\n",
    "        print('\\n') # adds a new (empty) line after each row\n",
    "\n",
    "    if rows_and_columns:\n",
    "        print('Number of rows:', len(dataset))\n",
    "        print('Number of columns:', len(dataset[0]))"
   ]
  },
  {
   "cell_type": "code",
   "execution_count": 3,
   "metadata": {
    "scrolled": true
   },
   "outputs": [
    {
     "name": "stdout",
     "output_type": "stream",
     "text": [
      "['Coloring book moana', 'ART_AND_DESIGN', '3.9', '967', '14M', '500,000+', 'Free', '0', 'Everyone', 'Art & Design;Pretend Play', 'January 15, 2018', '2.0.0', '4.0.3 and up']\n",
      "\n",
      "\n",
      "['U Launcher Lite – FREE Live Cool Themes, Hide Apps', 'ART_AND_DESIGN', '4.7', '87510', '8.7M', '5,000,000+', 'Free', '0', 'Everyone', 'Art & Design', 'August 1, 2018', '1.2.4', '4.0.3 and up']\n",
      "\n",
      "\n"
     ]
    }
   ],
   "source": [
    "explore_data(gplay, 1, 3, 'rows_and_columns'==True)"
   ]
  },
  {
   "cell_type": "code",
   "execution_count": 4,
   "metadata": {},
   "outputs": [
    {
     "name": "stdout",
     "output_type": "stream",
     "text": [
      "['389801252', 'Instagram', '113954816', 'USD', '0.0', '2161558', '1289', '4.5', '4.0', '10.23', '12+', 'Photo & Video', '37', '0', '29', '1']\n",
      "\n",
      "\n",
      "['529479190', 'Clash of Clans', '116476928', 'USD', '0.0', '2130805', '579', '4.5', '4.5', '9.24.12', '9+', 'Games', '38', '5', '18', '1']\n",
      "\n",
      "\n",
      "Number of rows: 7197\n",
      "Number of columns: 16\n"
     ]
    }
   ],
   "source": [
    "explore_data(ios, 1, 3, True)"
   ]
  },
  {
   "cell_type": "markdown",
   "metadata": {},
   "source": [
    "After we explore what kind of data we will be using in this project, we need to see what columns of data could be useful for our purpose, so we print the header of each dataset to see what we could use."
   ]
  },
  {
   "cell_type": "code",
   "execution_count": 5,
   "metadata": {},
   "outputs": [
    {
     "name": "stdout",
     "output_type": "stream",
     "text": [
      "['id', 'track_name', 'size_bytes', 'currency', 'price', 'rating_count_tot', 'rating_count_ver', 'user_rating', 'user_rating_ver', 'ver', 'cont_rating', 'prime_genre', 'sup_devices.num', 'ipadSc_urls.num', 'lang.num', 'vpp_lic']\n",
      "\n",
      "\n",
      "['App', 'Category', 'Rating', 'Reviews', 'Size', 'Installs', 'Type', 'Price', 'Content Rating', 'Genres', 'Last Updated', 'Current Ver', 'Android Ver']\n"
     ]
    }
   ],
   "source": [
    "print(data_ios[0])\n",
    "print('\\n')\n",
    "print(data_gplay[0])"
   ]
  },
  {
   "cell_type": "markdown",
   "metadata": {},
   "source": [
    "# Data Cleaning\n",
    "Before beginning our analysis, we need to make sure the data we analyze is accurate, or the results of our analysis will be wrong. \n",
    "- Detect inaccurate data, and correct or remove it.\n",
    "- Detect duplicate data, and remove the duplicates.\n",
    "\n",
    "For this, we will:\n",
    "- Remove non-English apps like 爱奇艺PPS -《欢乐颂2》电视剧热播.\n",
    "- Remove apps that aren't free.\n",
    "\n",
    "For this we read the discussions on https://www.kaggle.com/datasets/lava18/google-play-store-apps/discussion and realized there was a row without the information of one of its column. \n",
    "To see which app has missing data, we created a loop that compares the number of values stored in each row with the number of columns of the header row. \n",
    "When these number dont add up, the function prints out the row and the index of the row so we can later delete it"
   ]
  },
  {
   "cell_type": "code",
   "execution_count": 6,
   "metadata": {
    "scrolled": true
   },
   "outputs": [
    {
     "name": "stdout",
     "output_type": "stream",
     "text": [
      "['App', 'Category', 'Rating', 'Reviews', 'Size', 'Installs', 'Type', 'Price', 'Content Rating', 'Genres', 'Last Updated', 'Current Ver', 'Android Ver'] \n",
      "\n",
      "13 \n",
      "\n",
      "['Life Made WI-Fi Touchscreen Photo Frame', '1.9', '19', '3.0M', '1,000+', 'Free', '0', 'Everyone', '', 'February 11, 2018', '1.0.19', '4.0 and up']\n",
      "\n",
      "\n",
      "Index postion is: 10472\n"
     ]
    }
   ],
   "source": [
    "print(data_gplay[0],'\\n')\n",
    "\n",
    "print(len(header_gplay),'\\n')\n",
    "\n",
    "for row in gplay:\n",
    "    if len(row) != len(header_gplay):\n",
    "        print(row)\n",
    "        print(\"\\n\")\n",
    "        print(\"Index postion is:\", gplay.index(row))"
   ]
  },
  {
   "cell_type": "markdown",
   "metadata": {},
   "source": [
    "With this information we print out the row in question, then we delete it and afterwards we check if the deletion was successful."
   ]
  },
  {
   "cell_type": "code",
   "execution_count": 7,
   "metadata": {},
   "outputs": [
    {
     "name": "stdout",
     "output_type": "stream",
     "text": [
      "['Life Made WI-Fi Touchscreen Photo Frame', '1.9', '19', '3.0M', '1,000+', 'Free', '0', 'Everyone', '', 'February 11, 2018', '1.0.19', '4.0 and up']\n"
     ]
    }
   ],
   "source": [
    "print(gplay[10472])"
   ]
  },
  {
   "cell_type": "code",
   "execution_count": 8,
   "metadata": {},
   "outputs": [],
   "source": [
    "del (gplay[10472])"
   ]
  },
  {
   "cell_type": "code",
   "execution_count": 9,
   "metadata": {
    "scrolled": true
   },
   "outputs": [
    {
     "name": "stdout",
     "output_type": "stream",
     "text": [
      "['osmino Wi-Fi: free WiFi', 'TOOLS', '4.2', '134203', '4.1M', '10,000,000+', 'Free', '0', 'Everyone', 'Tools', 'August 7, 2018', '6.06.14', '4.4 and up']\n"
     ]
    }
   ],
   "source": [
    "print(gplay[10472])"
   ]
  },
  {
   "cell_type": "markdown",
   "metadata": {},
   "source": [
    "We see that the row in question no longer exists, so we repeat this process for the ios dataset to confirm that all of the rows have the neccessary data"
   ]
  },
  {
   "cell_type": "code",
   "execution_count": 10,
   "metadata": {},
   "outputs": [
    {
     "name": "stdout",
     "output_type": "stream",
     "text": [
      "['id', 'track_name', 'size_bytes', 'currency', 'price', 'rating_count_tot', 'rating_count_ver', 'user_rating', 'user_rating_ver', 'ver', 'cont_rating', 'prime_genre', 'sup_devices.num', 'ipadSc_urls.num', 'lang.num', 'vpp_lic'] \n",
      "\n",
      "16\n"
     ]
    }
   ],
   "source": [
    "print(header_ios,'\\n')\n",
    "\n",
    "print(len(header_ios))\n",
    "for row in ios:\n",
    "    if len(row) != len(header_ios):\n",
    "        print(row)\n",
    "        print(\"\\n\")\n",
    "        print(\"Index postion is:\", ios.index(row))"
   ]
  },
  {
   "cell_type": "markdown",
   "metadata": {},
   "source": [
    "# Duplicate apps\n",
    "We see that there is no missing data in the ios dataset,so next we will create a loop to identify duplicated data.\n",
    "This loop goes through each row of the dataset without header and adds them to a separate list of duplicate data if the row already exists in the unique list "
   ]
  },
  {
   "cell_type": "code",
   "execution_count": 11,
   "metadata": {
    "scrolled": true
   },
   "outputs": [
    {
     "name": "stdout",
     "output_type": "stream",
     "text": [
      "Number of duplicate android apps: 1181\n",
      "\n",
      "\n",
      "Number of expected android apps without duplicates: 9659\n",
      "\n",
      "\n",
      "Examples of duplicate android apps: ['Quick PDF Scanner + OCR FREE', 'Box', 'Google My Business', 'ZOOM Cloud Meetings', 'join.me - Simple Meetings', 'Box', 'Zenefits', 'Google Ads', 'Google My Business', 'Slack', 'FreshBooks Classic', 'Insightly CRM', 'QuickBooks Accounting: Invoicing & Expenses', 'HipChat - Chat Built for Teams', 'Xero Accounting Software']\n",
      "\n",
      "\n",
      "Number of duplicate ios apps: 0\n",
      "\n",
      "\n",
      "Number of expected ios apps without duplicates: 7197\n",
      "\n",
      "\n",
      "Examples of duplicate ios apps: []\n"
     ]
    }
   ],
   "source": [
    "duplicate_apps = []\n",
    "unique_apps = []\n",
    "\n",
    "for apps in gplay:\n",
    "    name = apps[0]\n",
    "    if name in unique_apps:\n",
    "        duplicate_apps.append(name)\n",
    "    else:\n",
    "        unique_apps.append(name)\n",
    "        \n",
    "print('Number of duplicate android apps:', len(duplicate_apps))\n",
    "print('\\n')\n",
    "print('Number of expected android apps without duplicates:', (len(gplay)-len(duplicate_apps)))\n",
    "print('\\n')\n",
    "print('Examples of duplicate android apps:', duplicate_apps[:15])\n",
    "\n",
    "duplicate_ios_apps = []\n",
    "unique_ios_apps = []\n",
    "\n",
    "print('\\n')\n",
    "\n",
    "for apps in ios:\n",
    "    name = apps[0]\n",
    "    if name in unique_ios_apps:\n",
    "        duplicate_ios_apps.append(name)\n",
    "    else:\n",
    "        unique_ios_apps.append(name)\n",
    "        \n",
    "print('Number of duplicate ios apps:', len(duplicate_ios_apps))\n",
    "print('\\n')\n",
    "print('Number of expected ios apps without duplicates:', len(ios))\n",
    "print('\\n')\n",
    "print('Examples of duplicate ios apps:', duplicate_ios_apps[:15])\n"
   ]
  },
  {
   "cell_type": "markdown",
   "metadata": {},
   "source": [
    "We can see that there are no duplicate data for the ios dataset but there are 1181 duplicated entries in the android dataset."
   ]
  },
  {
   "cell_type": "markdown",
   "metadata": {},
   "source": [
    "# Delete duplicated android\n",
    "Seeing that there are many duplicated android apps, we need to delete those that are somehow less updated. For this, we recognized that the N° of reviews differs significantly, so we will try to mantain de data from the apps that have the most reviews.\n",
    "1. Create a dictionary where each key is a unique app name and the corresponding dictionary value is the highest number of reviews of that app.\n",
    "2. Use the dictionary we created  to remove the duplicate rows"
   ]
  },
  {
   "cell_type": "markdown",
   "metadata": {},
   "source": [
    "For the first step we will iterate over the google apps to identify the names and reviews columns, and use them to create a new dictionary that has unique keys for each app associated with the highest value of reviews found in the dataset."
   ]
  },
  {
   "cell_type": "code",
   "execution_count": 12,
   "metadata": {},
   "outputs": [
    {
     "name": "stdout",
     "output_type": "stream",
     "text": [
      "Number of rows in android dictionary: 9659\n",
      "Number of expected android apps without duplicates: 9659\n"
     ]
    }
   ],
   "source": [
    "reviews_max = {}\n",
    "for rows in gplay:\n",
    "    name = rows[0]\n",
    "    n_reviews = float(rows[3])\n",
    "    if name in reviews_max and reviews_max[name]<n_reviews:\n",
    "        reviews_max[name]:n_reviews\n",
    "    elif name not in reviews_max:\n",
    "        reviews_max[name]=n_reviews\n",
    "        \n",
    "print('Number of rows in android dictionary:',len(reviews_max))\n",
    "print('Number of expected android apps without duplicates: 9659')\n",
    "        "
   ]
  },
  {
   "cell_type": "markdown",
   "metadata": {},
   "source": [
    "With this dictionary at hand, we can create a new list with all the clean data by adding only the rows of the apps that match the highest value of reviews saved in the dictionary."
   ]
  },
  {
   "cell_type": "code",
   "execution_count": 13,
   "metadata": {},
   "outputs": [
    {
     "name": "stdout",
     "output_type": "stream",
     "text": [
      "Length of clean android dataset: 9659\n"
     ]
    }
   ],
   "source": [
    "gplay_clean = []\n",
    "already_added = []\n",
    "\n",
    "for rows in gplay:\n",
    "    name = rows[0]\n",
    "    n_reviews = float(rows[3])\n",
    "    if n_reviews == reviews_max[name] and name not in already_added:\n",
    "        gplay_clean.append(rows)\n",
    "        already_added.append(name)\n",
    "print('Length of clean android dataset:',len(gplay_clean))\n",
    "#We don't need to do the same for the App Store data because there are no duplicates "
   ]
  },
  {
   "cell_type": "markdown",
   "metadata": {},
   "source": [
    "# Delete non_english apps\n",
    "Write a function that takes in a string and returns False if there's any character in the string that doesn't belong to the set of common English characters; otherwise, the function returns True.\n",
    "This function takes in a string and loops through the name of the app to see if each character belongs to the english dictionary, which acording to the ASCII correspond are associated to numbers below 127. If there are more than 3 characters outside this range, the function returns False. If not, then the name is in english it returns True."
   ]
  },
  {
   "cell_type": "code",
   "execution_count": 14,
   "metadata": {},
   "outputs": [
    {
     "data": {
      "text/plain": [
       "False"
      ]
     },
     "execution_count": 14,
     "metadata": {},
     "output_type": "execute_result"
    }
   ],
   "source": [
    "def check_lang(name):\n",
    "    count = 0 #Empty variable to store count of non encglish characters\n",
    "    for characters in name:\n",
    "       \n",
    "        if ord(characters) > 127:\n",
    "            count += 1\n",
    "    if count > 3:\n",
    "        return False\n",
    "    else:\n",
    "        return True\n",
    "\n",
    "check_lang('爱奇艺PPS -《欢乐颂2》电视剧热播')"
   ]
  },
  {
   "cell_type": "code",
   "execution_count": 15,
   "metadata": {},
   "outputs": [
    {
     "name": "stdout",
     "output_type": "stream",
     "text": [
      "爱奇艺PPS -《欢乐颂2》电视剧热播\n",
      "False\n"
     ]
    }
   ],
   "source": [
    "print(ios[813][1])\n",
    "print(check_lang(ios[813][1]))"
   ]
  },
  {
   "cell_type": "code",
   "execution_count": 16,
   "metadata": {
    "scrolled": false
   },
   "outputs": [
    {
     "name": "stdout",
     "output_type": "stream",
     "text": [
      "Length of android apps in english: 9614\n",
      "\n",
      "\n",
      "Length of ios apps in english: 6183\n"
     ]
    }
   ],
   "source": [
    "android_eng_apps = []\n",
    "ios__eng_apps = []\n",
    "for apps in gplay_clean:\n",
    "    app_name = apps[0]\n",
    "    if check_lang(app_name):\n",
    "        android_eng_apps.append(apps)\n",
    "\n",
    "for apps in ios:\n",
    "    app_name = apps[1]\n",
    "    if check_lang(app_name):\n",
    "        ios__eng_apps.append(apps)\n",
    "#pendiente hacer para ios (cual es la lista final, limpia? revisar todo proyecto, ordenar y seguir)\n",
    "\n",
    "print('Length of android apps in english:', len(android_eng_apps))\n",
    "print('\\n')\n",
    "print('Length of ios apps in english:', len(ios__eng_apps))\n",
    "     \n",
    "        "
   ]
  },
  {
   "cell_type": "markdown",
   "metadata": {},
   "source": [
    "We can see that we are left with:\n",
    "- 9614 Android apps in english\n",
    "- 6183 Ios apps in english"
   ]
  },
  {
   "cell_type": "code",
   "execution_count": 17,
   "metadata": {
    "scrolled": true
   },
   "outputs": [
    {
     "name": "stdout",
     "output_type": "stream",
     "text": [
      "['Photo Editor & Candy Camera & Grid & ScrapBook', 'ART_AND_DESIGN', '4.1', '159', '19M', '10,000+', 'Free', '0', 'Everyone', 'Art & Design', 'January 7, 2018', '1.0.0', '4.0.3 and up']\n",
      "\n",
      "\n",
      "['Coloring book moana', 'ART_AND_DESIGN', '3.9', '967', '14M', '500,000+', 'Free', '0', 'Everyone', 'Art & Design;Pretend Play', 'January 15, 2018', '2.0.0', '4.0.3 and up']\n",
      "\n",
      "\n",
      "['U Launcher Lite – FREE Live Cool Themes, Hide Apps', 'ART_AND_DESIGN', '4.7', '87510', '8.7M', '5,000,000+', 'Free', '0', 'Everyone', 'Art & Design', 'August 1, 2018', '1.2.4', '4.0.3 and up']\n",
      "\n",
      "\n",
      "Number of rows: 9614\n",
      "Number of columns: 13\n",
      "['284882215', 'Facebook', '389879808', 'USD', '0.0', '2974676', '212', '3.5', '3.5', '95.0', '4+', 'Social Networking', '37', '1', '29', '1']\n",
      "\n",
      "\n",
      "['389801252', 'Instagram', '113954816', 'USD', '0.0', '2161558', '1289', '4.5', '4.0', '10.23', '12+', 'Photo & Video', '37', '0', '29', '1']\n",
      "\n",
      "\n",
      "['529479190', 'Clash of Clans', '116476928', 'USD', '0.0', '2130805', '579', '4.5', '4.5', '9.24.12', '9+', 'Games', '38', '5', '18', '1']\n",
      "\n",
      "\n",
      "Number of rows: 6183\n",
      "Number of columns: 16\n"
     ]
    }
   ],
   "source": [
    "explore_data(android_eng_apps, 0, 3, True)\n",
    "explore_data(ios__eng_apps, 0, 3, True)"
   ]
  },
  {
   "cell_type": "markdown",
   "metadata": {},
   "source": [
    "# Isolating free apps\n",
    "The final step in the cleaning process is isolating the free apps. For this we loop through each dataset to identify all the free apps and create a new list with only these apps.\n",
    "\n",
    "# Problem: final android apps should be 8864 but it gives 8862"
   ]
  },
  {
   "cell_type": "code",
   "execution_count": 18,
   "metadata": {},
   "outputs": [
    {
     "name": "stdout",
     "output_type": "stream",
     "text": [
      "\n",
      "\n",
      "['Photo Editor & Candy Camera & Grid & ScrapBook', 'ART_AND_DESIGN', '4.1', '159', '19M', '10,000+', 'Free', '0', 'Everyone', 'Art & Design', 'January 7, 2018', '1.0.0', '4.0.3 and up']\n",
      "\n",
      "\n",
      "['Coloring book moana', 'ART_AND_DESIGN', '3.9', '967', '14M', '500,000+', 'Free', '0', 'Everyone', 'Art & Design;Pretend Play', 'January 15, 2018', '2.0.0', '4.0.3 and up']\n",
      "\n",
      "\n",
      "['U Launcher Lite – FREE Live Cool Themes, Hide Apps', 'ART_AND_DESIGN', '4.7', '87510', '8.7M', '5,000,000+', 'Free', '0', 'Everyone', 'Art & Design', 'August 1, 2018', '1.2.4', '4.0.3 and up']\n",
      "\n",
      "\n",
      "Number of rows: 8862\n",
      "Number of columns: 13\n",
      "\n",
      "\n",
      "['284882215', 'Facebook', '389879808', 'USD', '0.0', '2974676', '212', '3.5', '3.5', '95.0', '4+', 'Social Networking', '37', '1', '29', '1']\n",
      "\n",
      "\n",
      "['389801252', 'Instagram', '113954816', 'USD', '0.0', '2161558', '1289', '4.5', '4.0', '10.23', '12+', 'Photo & Video', '37', '0', '29', '1']\n",
      "\n",
      "\n",
      "['529479190', 'Clash of Clans', '116476928', 'USD', '0.0', '2130805', '579', '4.5', '4.5', '9.24.12', '9+', 'Games', '38', '5', '18', '1']\n",
      "\n",
      "\n",
      "Number of rows: 3222\n",
      "Number of columns: 16\n"
     ]
    }
   ],
   "source": [
    "android_final = []\n",
    "ios_final = []\n",
    "fuera = []\n",
    "for rows in android_eng_apps:\n",
    "    price = rows[7]\n",
    "    tag = rows[6]\n",
    "    if price == '0':\n",
    "        android_final.append(rows)\n",
    "    else:\n",
    "        fuera.append(rows)\n",
    "for rows in ios__eng_apps:\n",
    "    price = rows[4]\n",
    "    if price == '0.0':\n",
    "        ios_final.append(rows)\n",
    "        \n",
    "print('\\n')\n",
    "explore_data(android_final, 0, 3, True)\n",
    "print('\\n')\n",
    "explore_data(ios_final, 0, 3, True)"
   ]
  },
  {
   "cell_type": "markdown",
   "metadata": {},
   "source": [
    "# Most Common Apps by Genre: Part One\n",
    "\n",
    "Because our end goal is to add the app on both Google Play and the App Store, we need to find app profiles that are successful in both markets\n",
    "\n",
    "We need to create frequency tables to determine the most common genres in each market (ios - android)\n",
    "(Explain more blah blah)"
   ]
  },
  {
   "cell_type": "code",
   "execution_count": 19,
   "metadata": {},
   "outputs": [
    {
     "name": "stdout",
     "output_type": "stream",
     "text": [
      "['App', 'Category', 'Rating', 'Reviews', 'Size', 'Installs', 'Type', 'Price', 'Content Rating', 'Genres', 'Last Updated', 'Current Ver', 'Android Ver']\n",
      "\n",
      "\n",
      "['Photo Editor & Candy Camera & Grid & ScrapBook', 'ART_AND_DESIGN', '4.1', '159', '19M', '10,000+', 'Free', '0', 'Everyone', 'Art & Design', 'January 7, 2018', '1.0.0', '4.0.3 and up']\n",
      "\n",
      "\n",
      "['id', 'track_name', 'size_bytes', 'currency', 'price', 'rating_count_tot', 'rating_count_ver', 'user_rating', 'user_rating_ver', 'ver', 'cont_rating', 'prime_genre', 'sup_devices.num', 'ipadSc_urls.num', 'lang.num', 'vpp_lic']\n",
      "\n",
      "\n",
      "['284882215', 'Facebook', '389879808', 'USD', '0.0', '2974676', '212', '3.5', '3.5', '95.0', '4+', 'Social Networking', '37', '1', '29', '1']\n"
     ]
    }
   ],
   "source": [
    "print(header_gplay)\n",
    "print('\\n')\n",
    "print(android_final[0])\n",
    "print('\\n')\n",
    "print(header_ios)\n",
    "print('\\n')\n",
    "print(ios_final[0])"
   ]
  },
  {
   "cell_type": "markdown",
   "metadata": {},
   "source": [
    "So for android we have category in [1] place and genres in [9] place that we could associate with Installs [5] or reviews [3]\n",
    "\n",
    "For ios we have prime_genre in [-5] place that we could associate with rating count total [5]"
   ]
  },
  {
   "cell_type": "code",
   "execution_count": 20,
   "metadata": {},
   "outputs": [],
   "source": [
    "#\"Frequency table\" function to use in \"display_table\" function\n",
    "def freq_table(dataset,index): #Takes in a list of lists and an integer that defines the column\n",
    "    frequency = {}\n",
    "    total = 0 #Needed to calculate the %\n",
    "    for app in dataset:\n",
    "        total += 1\n",
    "        column = app[index]\n",
    "        if column in frequency:\n",
    "            frequency[column] += 1\n",
    "        else:\n",
    "            frequency[column] = 1\n",
    "    \n",
    "    freq_in_perc = {}\n",
    "    for key in frequency:\n",
    "        percentage = (frequency[key]/total) * 100\n",
    "        freq_in_perc[key] = percentage\n",
    "    return freq_in_perc"
   ]
  },
  {
   "cell_type": "code",
   "execution_count": 21,
   "metadata": {},
   "outputs": [
    {
     "name": "stdout",
     "output_type": "stream",
     "text": [
      "{'ART_AND_DESIGN': 0.6770480704129994, 'AUTO_AND_VEHICLES': 0.9252990295644324, 'BEAUTY': 0.598059128864816, 'BOOKS_AND_REFERENCE': 2.143985556307831, 'BUSINESS': 4.5926427443015125, 'COMICS': 0.6206273978785828, 'COMMUNICATION': 3.238546603475513, 'DATING': 1.8618821936357481, 'EDUCATION': 1.2863913337846988, 'ENTERTAINMENT': 1.128413450688332, 'EVENTS': 0.7109004739336493, 'FINANCE': 3.7011961182577298, 'FOOD_AND_DRINK': 1.2412547957571656, 'HEALTH_AND_FITNESS': 3.080568720379147, 'HOUSE_AND_HOME': 0.8350259535093659, 'LIBRARIES_AND_DEMO': 0.9365831640713158, 'LIFESTYLE': 3.9043105393816293, 'GAME': 9.873617693522906, 'FAMILY': 18.449559918754233, 'MEDICAL': 3.5206499661475967, 'SOCIAL': 2.663055743624464, 'SHOPPING': 2.2455427668697814, 'PHOTOGRAPHY': 2.945159106296547, 'SPORTS': 3.39652448657188, 'TRAVEL_AND_LOCAL': 2.335815842924848, 'TOOLS': 8.440532611148726, 'PERSONALIZATION': 3.3175355450236967, 'PRODUCTIVITY': 3.8930264048747465, 'PARENTING': 0.6544798013992327, 'WEATHER': 0.8011735499887158, 'VIDEO_PLAYERS': 1.782893252087565, 'NEWS_AND_MAGAZINES': 2.798465357707064, 'MAPS_AND_NAVIGATION': 1.399232678853532}\n"
     ]
    }
   ],
   "source": [
    "freq_category_android = freq_table(android_final,1)\n",
    "print(freq_category_android)"
   ]
  },
  {
   "cell_type": "code",
   "execution_count": 22,
   "metadata": {},
   "outputs": [],
   "source": [
    "def display_table(dataset, index):\n",
    "    table = freq_table(dataset, index) #We use the previous function to take in the same parameters as this function\n",
    "    table_display = [] #new empty list as tuple\n",
    "    for key in table:\n",
    "        key_val_as_tuple = (table[key], key) # We have to switch the value and key so the \"sorted\" function can work\n",
    "        table_display.append(key_val_as_tuple) # Save it as a new list\n",
    "\n",
    "    table_sorted = sorted(table_display, reverse = True)\n",
    "    for entry in table_sorted:\n",
    "        print(entry[1], ':', entry[0])"
   ]
  },
  {
   "cell_type": "code",
   "execution_count": 23,
   "metadata": {},
   "outputs": [
    {
     "name": "stdout",
     "output_type": "stream",
     "text": [
      "Games : 58.16263190564867\n",
      "Entertainment : 7.883302296710118\n",
      "Photo & Video : 4.9658597144630665\n",
      "Education : 3.662321539416512\n",
      "Social Networking : 3.2898820608317814\n",
      "Shopping : 2.60707635009311\n",
      "Utilities : 2.5139664804469275\n",
      "Sports : 2.1415270018621975\n",
      "Music : 2.0484171322160147\n",
      "Health & Fitness : 2.0173805090006205\n",
      "Productivity : 1.7380509000620732\n",
      "Lifestyle : 1.5828677839851024\n",
      "News : 1.3345747982619491\n",
      "Travel : 1.2414649286157666\n",
      "Finance : 1.1173184357541899\n",
      "Weather : 0.8690254500310366\n",
      "Food & Drink : 0.8069522036002483\n",
      "Reference : 0.5586592178770949\n",
      "Business : 0.5276225946617008\n",
      "Book : 0.4345127250155183\n",
      "Navigation : 0.186219739292365\n",
      "Medical : 0.186219739292365\n",
      "Catalogs : 0.12414649286157665\n"
     ]
    }
   ],
   "source": [
    "#Ios english app \"prime_genre\" frecuency table\n",
    "ios_prime_genre_freq = display_table(ios_final, -5)"
   ]
  },
  {
   "cell_type": "code",
   "execution_count": 24,
   "metadata": {},
   "outputs": [
    {
     "name": "stdout",
     "output_type": "stream",
     "text": [
      "Tools : 8.429248476641842\n",
      "Entertainment : 6.070864364703228\n",
      "Education : 5.348679756262695\n",
      "Business : 4.5926427443015125\n",
      "Productivity : 3.8930264048747465\n",
      "Lifestyle : 3.8930264048747465\n",
      "Finance : 3.7011961182577298\n",
      "Medical : 3.5206499661475967\n",
      "Sports : 3.4642292936131795\n",
      "Personalization : 3.3175355450236967\n",
      "Communication : 3.238546603475513\n",
      "Action : 3.1031369893929135\n",
      "Health & Fitness : 3.080568720379147\n",
      "Photography : 2.945159106296547\n",
      "News & Magazines : 2.798465357707064\n",
      "Social : 2.663055743624464\n",
      "Travel & Local : 2.324531708417964\n",
      "Shopping : 2.2455427668697814\n",
      "Books & Reference : 2.143985556307831\n",
      "Simulation : 2.0424283457458814\n",
      "Dating : 1.8618821936357481\n",
      "Arcade : 1.8505980591288649\n",
      "Video Players & Editors : 1.7716091175806816\n",
      "Casual : 1.7603249830737984\n",
      "Maps & Navigation : 1.399232678853532\n",
      "Food & Drink : 1.2412547957571656\n",
      "Puzzle : 1.128413450688332\n",
      "Racing : 0.9930038366057323\n",
      "Role Playing : 0.9365831640713158\n",
      "Libraries & Demo : 0.9365831640713158\n",
      "Auto & Vehicles : 0.9252990295644324\n",
      "Strategy : 0.9140148950575491\n",
      "House & Home : 0.8350259535093659\n",
      "Weather : 0.8011735499887158\n",
      "Events : 0.7109004739336493\n",
      "Adventure : 0.6770480704129994\n",
      "Comics : 0.6093432633716994\n",
      "Beauty : 0.598059128864816\n",
      "Art & Design : 0.598059128864816\n",
      "Parenting : 0.49650191830286616\n",
      "Card : 0.45136538027533285\n",
      "Casino : 0.4287971112615662\n",
      "Trivia : 0.41751297675468296\n",
      "Educational;Education : 0.3949447077409162\n",
      "Educational : 0.3723764387271496\n",
      "Board : 0.3723764387271496\n",
      "Education;Education : 0.3385240352064997\n",
      "Word : 0.2595350936583164\n",
      "Casual;Pretend Play : 0.23696682464454977\n",
      "Music : 0.2031144211238998\n",
      "Racing;Action & Adventure : 0.16926201760324985\n",
      "Puzzle;Brain Games : 0.16926201760324985\n",
      "Entertainment;Music & Video : 0.16926201760324985\n",
      "Casual;Brain Games : 0.13540961408259986\n",
      "Casual;Action & Adventure : 0.13540961408259986\n",
      "Arcade;Action & Adventure : 0.12412547957571654\n",
      "Action;Action & Adventure : 0.1015572105619499\n",
      "Educational;Pretend Play : 0.09027307605506657\n",
      "Board;Brain Games : 0.09027307605506657\n",
      "Simulation;Action & Adventure : 0.07898894154818326\n",
      "Parenting;Education : 0.07898894154818326\n",
      "Entertainment;Brain Games : 0.07898894154818326\n",
      "Parenting;Music & Video : 0.06770480704129993\n",
      "Educational;Brain Games : 0.06770480704129993\n",
      "Casual;Creativity : 0.06770480704129993\n",
      "Art & Design;Creativity : 0.06770480704129993\n",
      "Education;Pretend Play : 0.056420672534416606\n",
      "Role Playing;Pretend Play : 0.045136538027533285\n",
      "Education;Creativity : 0.045136538027533285\n",
      "Role Playing;Action & Adventure : 0.033852403520649964\n",
      "Puzzle;Action & Adventure : 0.033852403520649964\n",
      "Entertainment;Creativity : 0.033852403520649964\n",
      "Entertainment;Action & Adventure : 0.033852403520649964\n",
      "Educational;Creativity : 0.033852403520649964\n",
      "Educational;Action & Adventure : 0.033852403520649964\n",
      "Education;Music & Video : 0.033852403520649964\n",
      "Education;Brain Games : 0.033852403520649964\n",
      "Education;Action & Adventure : 0.033852403520649964\n",
      "Adventure;Action & Adventure : 0.033852403520649964\n",
      "Video Players & Editors;Music & Video : 0.022568269013766643\n",
      "Sports;Action & Adventure : 0.022568269013766643\n",
      "Simulation;Pretend Play : 0.022568269013766643\n",
      "Puzzle;Creativity : 0.022568269013766643\n",
      "Music;Music & Video : 0.022568269013766643\n",
      "Entertainment;Pretend Play : 0.022568269013766643\n",
      "Casual;Education : 0.022568269013766643\n",
      "Board;Action & Adventure : 0.022568269013766643\n",
      "Video Players & Editors;Creativity : 0.011284134506883321\n",
      "Trivia;Education : 0.011284134506883321\n",
      "Travel & Local;Action & Adventure : 0.011284134506883321\n",
      "Tools;Education : 0.011284134506883321\n",
      "Strategy;Education : 0.011284134506883321\n",
      "Strategy;Creativity : 0.011284134506883321\n",
      "Strategy;Action & Adventure : 0.011284134506883321\n",
      "Simulation;Education : 0.011284134506883321\n",
      "Role Playing;Brain Games : 0.011284134506883321\n",
      "Racing;Pretend Play : 0.011284134506883321\n",
      "Puzzle;Education : 0.011284134506883321\n",
      "Parenting;Brain Games : 0.011284134506883321\n",
      "Music & Audio;Music & Video : 0.011284134506883321\n",
      "Lifestyle;Pretend Play : 0.011284134506883321\n",
      "Lifestyle;Education : 0.011284134506883321\n",
      "Health & Fitness;Education : 0.011284134506883321\n",
      "Health & Fitness;Action & Adventure : 0.011284134506883321\n",
      "Entertainment;Education : 0.011284134506883321\n",
      "Communication;Creativity : 0.011284134506883321\n",
      "Comics;Creativity : 0.011284134506883321\n",
      "Casual;Music & Video : 0.011284134506883321\n",
      "Card;Action & Adventure : 0.011284134506883321\n",
      "Books & Reference;Education : 0.011284134506883321\n",
      "Art & Design;Pretend Play : 0.011284134506883321\n",
      "Art & Design;Action & Adventure : 0.011284134506883321\n",
      "Arcade;Pretend Play : 0.011284134506883321\n",
      "Adventure;Education : 0.011284134506883321\n"
     ]
    }
   ],
   "source": [
    "#Android english app \"genre\" frecuency table\n",
    "android_genre_freq = display_table(android_final, 9)"
   ]
  },
  {
   "cell_type": "code",
   "execution_count": 25,
   "metadata": {},
   "outputs": [
    {
     "name": "stdout",
     "output_type": "stream",
     "text": [
      "FAMILY : 18.449559918754233\n",
      "GAME : 9.873617693522906\n",
      "TOOLS : 8.440532611148726\n",
      "BUSINESS : 4.5926427443015125\n",
      "LIFESTYLE : 3.9043105393816293\n",
      "PRODUCTIVITY : 3.8930264048747465\n",
      "FINANCE : 3.7011961182577298\n",
      "MEDICAL : 3.5206499661475967\n",
      "SPORTS : 3.39652448657188\n",
      "PERSONALIZATION : 3.3175355450236967\n",
      "COMMUNICATION : 3.238546603475513\n",
      "HEALTH_AND_FITNESS : 3.080568720379147\n",
      "PHOTOGRAPHY : 2.945159106296547\n",
      "NEWS_AND_MAGAZINES : 2.798465357707064\n",
      "SOCIAL : 2.663055743624464\n",
      "TRAVEL_AND_LOCAL : 2.335815842924848\n",
      "SHOPPING : 2.2455427668697814\n",
      "BOOKS_AND_REFERENCE : 2.143985556307831\n",
      "DATING : 1.8618821936357481\n",
      "VIDEO_PLAYERS : 1.782893252087565\n",
      "MAPS_AND_NAVIGATION : 1.399232678853532\n",
      "EDUCATION : 1.2863913337846988\n",
      "FOOD_AND_DRINK : 1.2412547957571656\n",
      "ENTERTAINMENT : 1.128413450688332\n",
      "LIBRARIES_AND_DEMO : 0.9365831640713158\n",
      "AUTO_AND_VEHICLES : 0.9252990295644324\n",
      "HOUSE_AND_HOME : 0.8350259535093659\n",
      "WEATHER : 0.8011735499887158\n",
      "EVENTS : 0.7109004739336493\n",
      "ART_AND_DESIGN : 0.6770480704129994\n",
      "PARENTING : 0.6544798013992327\n",
      "COMICS : 0.6206273978785828\n",
      "BEAUTY : 0.598059128864816\n"
     ]
    }
   ],
   "source": [
    "#Android english app \"category\" frecuency table\n",
    "android_category_freq = display_table(android_final, 1)"
   ]
  },
  {
   "cell_type": "markdown",
   "metadata": {},
   "source": [
    "# Most popular apps by genre\n"
   ]
  },
  {
   "cell_type": "markdown",
   "metadata": {},
   "source": [
    "calculating the average number of user ratings per app genre on the App Store"
   ]
  },
  {
   "cell_type": "code",
   "execution_count": 26,
   "metadata": {},
   "outputs": [
    {
     "name": "stdout",
     "output_type": "stream",
     "text": [
      "Social Networking 3.2898820608317814 : 71548.34905660378\n",
      "Photo & Video 4.9658597144630665 : 28441.54375\n",
      "Games 58.16263190564867 : 22788.6696905016\n",
      "Music 2.0484171322160147 : 57326.530303030304\n",
      "Reference 0.5586592178770949 : 74942.11111111111\n",
      "Health & Fitness 2.0173805090006205 : 23298.015384615384\n",
      "Weather 0.8690254500310366 : 52279.892857142855\n",
      "Utilities 2.5139664804469275 : 18684.456790123455\n",
      "Travel 1.2414649286157666 : 28243.8\n",
      "Shopping 2.60707635009311 : 26919.690476190477\n",
      "News 1.3345747982619491 : 21248.023255813954\n",
      "Navigation 0.186219739292365 : 86090.33333333333\n",
      "Lifestyle 1.5828677839851024 : 16485.764705882353\n",
      "Entertainment 7.883302296710118 : 14029.830708661417\n",
      "Food & Drink 0.8069522036002483 : 33333.92307692308\n",
      "Sports 2.1415270018621975 : 23008.898550724636\n",
      "Book 0.4345127250155183 : 39758.5\n",
      "Finance 1.1173184357541899 : 31467.944444444445\n",
      "Education 3.662321539416512 : 7003.983050847458\n",
      "Productivity 1.7380509000620732 : 21028.410714285714\n",
      "Business 0.5276225946617008 : 7491.117647058823\n",
      "Catalogs 0.12414649286157665 : 4004.0\n",
      "Medical 0.186219739292365 : 612.0\n"
     ]
    }
   ],
   "source": [
    "freq_table_ios = freq_table(ios_final, -5)\n",
    "for genre in freq_table_ios:\n",
    "    total = 0\n",
    "    len_genre = 0\n",
    "    for apps in ios_final:\n",
    "        genre_app = apps[-5]\n",
    "        if genre_app == genre:\n",
    "            rating_count = float(apps[5])\n",
    "            total += rating_count\n",
    "            len_genre += 1\n",
    "    avg_usr_rating = total /len_genre\n",
    "    print(genre, freq_table_ios[genre], \":\", avg_usr_rating)\n",
    "\n",
    "\n",
    "    "
   ]
  },
  {
   "cell_type": "markdown",
   "metadata": {},
   "source": [
    "# Recomendation\n",
    "Based on the ios dataset, we could recomend "
   ]
  },
  {
   "cell_type": "markdown",
   "metadata": {},
   "source": [
    "Android \n"
   ]
  },
  {
   "cell_type": "code",
   "execution_count": 27,
   "metadata": {},
   "outputs": [
    {
     "name": "stdout",
     "output_type": "stream",
     "text": [
      "1,000,000+ : 15.730083502595352\n",
      "100,000+ : 11.543669600541637\n",
      "10,000,000+ : 10.550665763935905\n",
      "10,000+ : 10.212141728729407\n",
      "1,000+ : 8.395396073121193\n",
      "100+ : 6.917174452719477\n",
      "5,000,000+ : 6.82690137666441\n",
      "500,000+ : 5.574362446400361\n",
      "50,000+ : 4.773188896411646\n",
      "5,000+ : 4.513653802753328\n",
      "10+ : 3.5432182351613632\n",
      "500+ : 3.2498307379823967\n",
      "50,000,000+ : 2.279395170390431\n",
      "100,000,000+ : 2.1214172872940646\n",
      "50+ : 1.9183028661701647\n",
      "5+ : 0.7898894154818324\n",
      "1+ : 0.5077860528097494\n",
      "500,000,000+ : 0.2708192281651997\n",
      "1,000,000,000+ : 0.22568269013766643\n",
      "0+ : 0.045136538027533285\n",
      "0 : 0.011284134506883321\n"
     ]
    }
   ],
   "source": [
    "display_table(android_final, 5)"
   ]
  },
  {
   "cell_type": "raw",
   "metadata": {},
   "source": [
    "\n"
   ]
  },
  {
   "cell_type": "code",
   "execution_count": 31,
   "metadata": {},
   "outputs": [
    {
     "name": "stdout",
     "output_type": "stream",
     "text": [
      "ART_AND_DESIGN : 19053516.666666668\n",
      "AUTO_AND_VEHICLES : 8846676.833333334\n",
      "BEAUTY : 4532841.666666667\n",
      "BOOKS_AND_REFERENCE : 277647376.6666667\n",
      "BUSINESS : 116150348.33333333\n",
      "COMICS : 7495191.666666667\n",
      "COMMUNICATION : 1839484366.8333333\n",
      "DATING : 23485792.833333332\n",
      "EDUCATION : 58558333.333333336\n",
      "ENTERTAINMENT : 352243333.3333333\n",
      "EVENTS : 2662193.3333333335\n",
      "FINANCE : 75860522.0\n",
      "FOOD_AND_DRINK : 35289791.833333336\n",
      "HEALTH_AND_FITNESS : 190591400.33333334\n",
      "HOUSE_AND_HOME : 16202076.833333334\n",
      "LIBRARIES_AND_DEMO : 8832635.0\n",
      "LIFESTYLE : 82914071.5\n",
      "GAME : 2309644908.3333335\n",
      "FAMILY : 733465948.3333334\n",
      "MEDICAL : 6272057.333333333\n",
      "SOCIAL : 914643650.3333334\n",
      "SHOPPING : 233389764.16666666\n",
      "PHOTOGRAPHY : 774544802.5\n",
      "SPORTS : 182538447.16666666\n",
      "TRAVEL_AND_LOCAL : 482450681.0\n",
      "TOOLS : 1333340579.0\n",
      "PERSONALIZATION : 254872648.0\n",
      "PRODUCTIVITY : 965271552.3333334\n",
      "PARENTING : 5245168.333333333\n",
      "WEATHER : 60048086.666666664\n",
      "VIDEO_PLAYERS : 654455286.6666666\n",
      "NEWS_AND_MAGAZINES : 394699376.6666667\n",
      "MAPS_AND_NAVIGATION : 83843463.33333333\n"
     ]
    }
   ],
   "source": [
    "freq_table_android = freq_table(android_final, 1)\n",
    "for category in freq_table_android:\n",
    "    total = 0\n",
    "    len_category = 0\n",
    "    for apps in android_final:\n",
    "        categories = apps[1]\n",
    "        if categories == category:\n",
    "            installs = (apps[5].replace('+', ''))\n",
    "            installs_count = float(installs.replace(',', ''))\n",
    "            total += installs_count\n",
    "            len_category += 1\n",
    "    avg_usr_installs = total /len_genre\n",
    "    print(category, \":\", avg_usr_installs)"
   ]
  },
  {
   "cell_type": "code",
   "execution_count": null,
   "metadata": {},
   "outputs": [],
   "source": []
  }
 ],
 "metadata": {
  "kernelspec": {
   "display_name": "Python 3",
   "language": "python",
   "name": "python3"
  },
  "language_info": {
   "codemirror_mode": {
    "name": "ipython",
    "version": 3
   },
   "file_extension": ".py",
   "mimetype": "text/x-python",
   "name": "python",
   "nbconvert_exporter": "python",
   "pygments_lexer": "ipython3",
   "version": "3.8.2"
  }
 },
 "nbformat": 4,
 "nbformat_minor": 2
}
